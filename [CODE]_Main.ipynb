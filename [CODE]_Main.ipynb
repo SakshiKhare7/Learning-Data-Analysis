{
  "nbformat": 4,
  "nbformat_minor": 0,
  "metadata": {
    "colab": {
      "provenance": [],
      "include_colab_link": true
    },
    "kernelspec": {
      "name": "python3",
      "display_name": "Python 3"
    },
    "language_info": {
      "name": "python"
    }
  },
  "cells": [
    {
      "cell_type": "markdown",
      "metadata": {
        "id": "view-in-github",
        "colab_type": "text"
      },
      "source": [
        "<a href=\"https://colab.research.google.com/github/SakshiKhare7/Learning-Data-Analysis/blob/main/%5BCODE%5D_Main.ipynb\" target=\"_parent\"><img src=\"https://colab.research.google.com/assets/colab-badge.svg\" alt=\"Open In Colab\"/></a>"
      ]
    },
    {
      "cell_type": "markdown",
      "source": [
        "# Data visualization: Amazon Shopping reviews\n",
        "## We are using [this](https://www.kaggle.com/datasets/ashishkumarak/amazon-shopping-reviews-daily-updated)\n"
      ],
      "metadata": {
        "id": "1Kstkth0i-I7"
      }
    },
    {
      "cell_type": "markdown",
      "source": [
        "## Template setup structure for every notebook"
      ],
      "metadata": {
        "id": "mEaYUr0AkBsS"
      }
    },
    {
      "cell_type": "code",
      "execution_count": null,
      "metadata": {
        "id": "tx6fbSYmbHMJ"
      },
      "outputs": [],
      "source": [
        "!pip install -q kaggle"
      ]
    },
    {
      "cell_type": "code",
      "source": [
        "from google.colab import files\n",
        "\n",
        "files.upload()"
      ],
      "metadata": {
        "id": "0pG0zmnAh69J"
      },
      "execution_count": null,
      "outputs": []
    },
    {
      "cell_type": "code",
      "source": [
        "! mkdir ~/.kaggle\n",
        "\n",
        "! cp kaggle.json ~/.kaggle/"
      ],
      "metadata": {
        "id": "xtGIF_NMiSK4"
      },
      "execution_count": null,
      "outputs": []
    },
    {
      "cell_type": "code",
      "source": [
        "! chmod 600 ~/.kaggle/kaggle.json"
      ],
      "metadata": {
        "id": "wlVfI99ziUiD"
      },
      "execution_count": null,
      "outputs": []
    },
    {
      "cell_type": "code",
      "source": [
        "!kaggle datasets download -d ashishkumarak/amazon-shopping-reviews-daily-updated"
      ],
      "metadata": {
        "id": "MQqEdY5KioPS"
      },
      "execution_count": null,
      "outputs": []
    },
    {
      "cell_type": "code",
      "source": [
        "!unzip amazon-shopping-reviews-daily-updated.zip"
      ],
      "metadata": {
        "id": "6TnMxNdqkaOx"
      },
      "execution_count": null,
      "outputs": []
    },
    {
      "cell_type": "code",
      "source": [
        "! rm -rf amazon-shopping-reviews-daily-updated.zip"
      ],
      "metadata": {
        "id": "l4Sts-NKlMro"
      },
      "execution_count": null,
      "outputs": []
    },
    {
      "cell_type": "markdown",
      "source": [],
      "metadata": {
        "id": "y8YBg9xqj9me"
      }
    },
    {
      "cell_type": "markdown",
      "source": [
        "## Importing necessary libraries"
      ],
      "metadata": {
        "id": "GOmaOV6FkJy_"
      }
    },
    {
      "cell_type": "code",
      "source": [],
      "metadata": {
        "id": "QB39uhVolby0"
      },
      "execution_count": null,
      "outputs": []
    }
  ]
}